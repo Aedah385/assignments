{
 "cells": [
  {
   "cell_type": "code",
   "execution_count": 1,
   "id": "9a654e2c-e04d-43c2-969b-ec3f1d24bc0f",
   "metadata": {
    "jupyter": {
     "source_hidden": true
    },
    "tags": []
   },
   "outputs": [],
   "source": [
    "class Block():\n",
    "    def __init__(self, \n",
    "                 index:int=0, \n",
    "                 transactions:list=[],\n",
    "                 timestamp:int=0,\n",
    "                 cur_hash:str=\"\",\n",
    "                 previous_hash:str=\"\",\n",
    "                 nounce:int=0):\n",
    "        self.index:int=index\n",
    "        self.transactions:list=transactions\n",
    "        self.timestamp=timestamp\n",
    "        self.hash:str=cur_hash\n",
    "        self.previous_hash:str=previous_hash\n",
    "        self.nounce:int=nounce\n",
    "    \n",
    "def compute_hash(self) -> str:\n",
    "    block_string = json.dumps(self.__dict__, sort_keys=True)\n",
    "    return hashlib.sha256(block_sring.encode()).hexdigest()"
   ]
  },
  {
   "cell_type": "code",
   "execution_count": 2,
   "id": "c78da2ac-93fa-44f5-a4cd-5f494a527d14",
   "metadata": {},
   "outputs": [
    {
     "data": {
      "text/plain": [
       "0"
      ]
     },
     "execution_count": 2,
     "metadata": {},
     "output_type": "execute_result"
    }
   ],
   "source": [
    "Block(index=0).nounce"
   ]
  },
  {
   "cell_type": "code",
   "execution_count": 11,
   "id": "144bc097-abf0-431c-9505-11e61d212952",
   "metadata": {},
   "outputs": [],
   "source": [
    "class Block():\n",
    "\n",
    "    def __init__(self,\n",
    "                 index=0,\n",
    "                 transactions=[],\n",
    "                 timestamp=0,\n",
    "                 current_hash=\"\",\n",
    "                 pervious_hash=\"\",\n",
    "                 nonce=0,):\n",
    "        self.index = index\n",
    "        self.transactions = transactions\n",
    "        self.timestamp = timestamp\n",
    "        self.current_hash = current_hash\n",
    "        self.pervious_hash = pervious_hash\n",
    "        self.nonce = nonce\n",
    "        \n",
    "    def compute_hash(self):\n",
    "        block_string = json.dumps(self.__dict__, sort_keys=True)\n",
    "        return hashlib.sha256(block_string.encode()).hexdigest()\n"
   ]
  },
  {
   "cell_type": "code",
   "execution_count": 15,
   "id": "a5704ea8-427c-4584-9c0a-427f019d724a",
   "metadata": {},
   "outputs": [],
   "source": [
    "class Blockchain(): \n",
    "    def __init__(self):\n",
    "        self.unconfirmed_transactions:List[dict] = []\n",
    "        self.chain:List[Block] = []\n",
    "        self.difficulty = 2\n",
    "        self.create_genesis_block()\n",
    "        \n",
    "    def get_last_block(self) -> Block:\n",
    "        return self.chain[-1]\n",
    "    \n",
    "    def create_genesis_block(self):\n",
    "        genesis_block = Block(index=0, transactions=[], timestamp=time.time(), previous_hash=\"0\") #if you rename your properties be sure to change this. \n",
    "        genesis_block.hash = genesis_block.compute_hash()\n",
    "        self.chain.append(genesis_block)\n",
    "        \n",
    "    def proof_of_work(self, block:Block) -> str:\n",
    "        computed_hash = block.compute_hash()\n",
    "        while not computed_hash.startswith('0' * self.difficulty):\n",
    "            block.nonce += 1\n",
    "            computed_hash = block.compute_hash()\n",
    "        return computed_hash  \n",
    "    \n",
    "    def is_valid_proof(self, block:Block, block_hash:str) -> bool:\n",
    "        return block_hash.startswith('0' * self.difficulty) and block_hash == block.compute_hash()\n",
    "    \n",
    "    def add_block(self, block:Block, proof:str) -> bool:\n",
    "        last_block = self.get_last_block()\n",
    "        last_block.hash\n",
    "        \n",
    "        if last_block.hash !=block.previous_hash:\n",
    "            return False\n",
    "        \n",
    "        if not self.is_valid_proof(block,proof):\n",
    "            return False\n",
    "        \n",
    "        block.hash =proof\n",
    "        self.chain.append(block)\n",
    "        return True\n",
    "    \n",
    "    def add_new_transaction(self, transaction:dict) -> None:\n",
    "        self.unconfirmed_transactions.append(transaction)\n",
    "    \n",
    "\n",
    "    def mine(self) -> int:\n",
    "        if len(self.unconfirmed_transactions)<1:\n",
    "            return -1\n",
    "        last_block = self.get_last_block()\n",
    "        self.unconfirmed_transactions.append(tx_1)\n",
    "        \n",
    "        new_block = Block(index=last_block.index+1,\n",
    "                          transactions=self.unconfirmed_transactions,\n",
    "                          timestamp=int(time.time()),\n",
    "                          previous_hash=last_block.current_hash)\n",
    "        \n",
    "        current_hash = self.proof_of_work(new_block)\n",
    "        self.add_block(new_block, current_hash)\n",
    "        self.unconfirmed_transactions =[]\n",
    "        return new_block.index"
   ]
  }
 ],
 "metadata": {
  "kernelspec": {
   "display_name": "Python 3",
   "language": "python",
   "name": "python3"
  },
  "language_info": {
   "codemirror_mode": {
    "name": "ipython",
    "version": 3
   },
   "file_extension": ".py",
   "mimetype": "text/x-python",
   "name": "python",
   "nbconvert_exporter": "python",
   "pygments_lexer": "ipython3",
   "version": "3.8.8"
  }
 },
 "nbformat": 4,
 "nbformat_minor": 5
}
